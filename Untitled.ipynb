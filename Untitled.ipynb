{
 "cells": [
  {
   "cell_type": "code",
   "execution_count": 8,
   "id": "04082d3c",
   "metadata": {
    "scrolled": true
   },
   "outputs": [
    {
     "name": "stdout",
     "output_type": "stream",
     "text": [
      "Digite um número inteiro: 444\n",
      "Escolha uma das bases para conversão:\n",
      "[ 1 ] converter para BINÁRIO\n",
      "[ 2 ] converter para OCTAL\n",
      "[ 3 ] converter para HEXADECIMAL\n",
      "Sua opção: 4\n",
      "Opção inválida. Tente novamente\n"
     ]
    }
   ],
   "source": [
    "num = int(input(\"Digite um número inteiro: \"))\n",
    "print('''Escolha uma das bases para conversão:\n",
    "[ 1 ] converter para BINÁRIO\n",
    "[ 2 ] converter para OCTAL\n",
    "[ 3 ] converter para HEXADECIMAL''')\n",
    "opção = int(input('Sua opção: '))\n",
    "if opção == 1:\n",
    "    print('{} convertido para BINÁRIO é igual a {}'.format(num, bin(num) [2:]))\n",
    "elif opção == 2:\n",
    "    print ('{} convertido para OCTAL é igual a {}'.format(num, oct(num) [2:]))\n",
    "elif opção == 3:\n",
    "    print ('{} convertido para HEXADECIMAL é igual a {}'.format(num, hex(num)[2:]))\n",
    "else:\n",
    "    print('Opção inválida. Tente novamente')"
   ]
  },
  {
   "cell_type": "code",
   "execution_count": null,
   "id": "c6754d72",
   "metadata": {},
   "outputs": [],
   "source": []
  },
  {
   "cell_type": "code",
   "execution_count": null,
   "id": "ec0b780b",
   "metadata": {},
   "outputs": [],
   "source": []
  }
 ],
 "metadata": {
  "kernelspec": {
   "display_name": "Python 3 (ipykernel)",
   "language": "python",
   "name": "python3"
  },
  "language_info": {
   "codemirror_mode": {
    "name": "ipython",
    "version": 3
   },
   "file_extension": ".py",
   "mimetype": "text/x-python",
   "name": "python",
   "nbconvert_exporter": "python",
   "pygments_lexer": "ipython3",
   "version": "3.9.13"
  }
 },
 "nbformat": 4,
 "nbformat_minor": 5
}
